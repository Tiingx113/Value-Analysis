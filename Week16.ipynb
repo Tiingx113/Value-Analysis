{
  "nbformat": 4,
  "nbformat_minor": 0,
  "metadata": {
    "colab": {
      "name": "Week16.ipynb",
      "version": "0.3.2",
      "provenance": [],
      "collapsed_sections": []
    },
    "kernelspec": {
      "name": "python3",
      "display_name": "Python 3"
    }
  },
  "cells": [
    {
      "metadata": {
        "id": "kt79drdkSnEz",
        "colab_type": "text"
      },
      "cell_type": "markdown",
      "source": [
        "$$3x + 2y -z = 1$$\n",
        "$$2x - 2y +4z = -2$$\n",
        "$$-x +\\frac{1}{2}y - z =0$$\n",
        "A matrix is\n",
        "$$\n",
        "A =\n",
        " \\begin{pmatrix}\n",
        "  3 & 2 & -1 \\\\\n",
        "  2 & -2 & 4 \\\\\n",
        "  -1 & 1/2 & -1\n",
        "  \\end{pmatrix}\n",
        "$$\n",
        "b matrix is \n",
        "$$\n",
        "b =\n",
        " \\begin{pmatrix}\n",
        "  1 & -2 & 0\n",
        "  \\end{pmatrix}\n",
        "$$\n"
      ]
    },
    {
      "metadata": {
        "id": "WQNizdIhPWWx",
        "colab_type": "code",
        "colab": {}
      },
      "cell_type": "code",
      "source": [
        "import numpy as np\n",
        "from numpy.linalg import inv\n",
        "from numpy.linalg import solve"
      ],
      "execution_count": 0,
      "outputs": []
    },
    {
      "metadata": {
        "id": "5eNdBR76KCRG",
        "colab_type": "code",
        "outputId": "0e332c14-e78b-4ea2-85bf-916855c0c5ea",
        "colab": {
          "base_uri": "https://localhost:8080/",
          "height": 34
        }
      },
      "cell_type": "code",
      "source": [
        "# solve\n",
        "A = np.array([[3.,2.,-1.],\n",
        "              [2.,-2.,4.],\n",
        "              [-1.,0.5,-1.]])\n",
        "B = np.array([1.,-2.,0])\n",
        "\n",
        "C = solve(A,B)\n",
        "\n",
        "C"
      ],
      "execution_count": 32,
      "outputs": [
        {
          "output_type": "execute_result",
          "data": {
            "text/plain": [
              "array([ 1., -2., -2.])"
            ]
          },
          "metadata": {
            "tags": []
          },
          "execution_count": 32
        }
      ]
    },
    {
      "metadata": {
        "id": "HdB1wtMAOIuH",
        "colab_type": "code",
        "outputId": "18fa4744-73c6-4d44-8842-b0a8f982d3ec",
        "colab": {
          "base_uri": "https://localhost:8080/",
          "height": 34
        }
      },
      "cell_type": "code",
      "source": [
        "# inv\n",
        "a = np.array([[3.,2.,-1.],[2.,-2.,4.],[-1.,0.5,-1.]])\n",
        "b = np.array([1.,-2.,0])\n",
        "\n",
        "ainv = inv(a)\n",
        "\n",
        "ans = np.dot(ainv,b)\n",
        "ans\n"
      ],
      "execution_count": 33,
      "outputs": [
        {
          "output_type": "execute_result",
          "data": {
            "text/plain": [
              "array([ 1., -2., -2.])"
            ]
          },
          "metadata": {
            "tags": []
          },
          "execution_count": 33
        }
      ]
    }
  ]
}