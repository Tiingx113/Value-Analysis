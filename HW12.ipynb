{
  "nbformat": 4,
  "nbformat_minor": 0,
  "metadata": {
    "colab": {
      "name": "HW12.ipynb",
      "version": "0.3.2",
      "provenance": [],
      "collapsed_sections": []
    },
    "kernelspec": {
      "name": "python3",
      "display_name": "Python 3"
    }
  },
  "cells": [
    {
      "metadata": {
        "id": "migmHJT_Cpwn",
        "colab_type": "code",
        "colab": {}
      },
      "cell_type": "code",
      "source": [
        "#math function\n",
        "\n",
        "def func_xy(X, Y, L):\n",
        "  X, Y = np.meshgrid(X, Y, L)\n",
        "  Z = func_tf_xy(X,Y, L)\n",
        "  return Z,X,Y\n",
        "\n",
        "def func_tf_xy(x, y, l):\n",
        "  return func_f(x, y)+l*func_g(x, y)\n",
        "\n",
        "def func_f(x, y):\n",
        "  return x*y\n",
        "\n",
        "def func_g(x, y):\n",
        "  return ((x+2)*(y+3.5)-200)\n",
        "\n",
        "\n",
        "def func(x, y, z):\n",
        "  #return x**2+y**2+z**2\n",
        "  return func_tf_xy(x, y, z)\n",
        "  #return ((200/(y+3.5))-2)*y"
      ],
      "execution_count": 0,
      "outputs": []
    },
    {
      "metadata": {
        "id": "DgOu9l9k-Kmv",
        "colab_type": "code",
        "colab": {
          "base_uri": "https://localhost:8080/",
          "height": 101
        },
        "outputId": "b34d83b4-623f-4db2-bc6b-fbe7e957868e"
      },
      "cell_type": "code",
      "source": [
        "import numpy as np\n",
        "\n",
        "import multiprocessing\n",
        "from collections import OrderedDict\n",
        "import os\n",
        "import time\n",
        "\n",
        "\n",
        "def eval_iter(arg_lst, l_lst):\n",
        "    for c_i, args in enumerate(arg_lst):\n",
        "        yield c_i, args, l_lst\n",
        "\n",
        "\n",
        "def eval_func(c_i, args, l_lst):\n",
        "    assert len(args) == 3\n",
        "    x = args[0]\n",
        "    y = args[1]\n",
        "    z = args[2]\n",
        "    res = 10000000000000- func(x, y, z)\n",
        "    print(f\"Eval {x}, {y}, {z}: {res}\")\n",
        "    l_lst[c_i] = res\n",
        "\n",
        "\n",
        "if __name__ == '__main__':\n",
        "\n",
        "    generation_num = 1\n",
        "    child_num = 3\n",
        "\n",
        "    space = OrderedDict((\n",
        "        ('x', (5., 11.)),\n",
        "        ('y', (14., 16.)),\n",
        "        ('z', (2.7, 3.))\n",
        "    ))\n",
        "\n",
        "    params = OrderedDict([(nm, []) for nm in space.keys()])\n",
        "    for nm, v_range in space.items():\n",
        "        params[nm] = np.random.uniform(v_range[0], v_range[1], size=child_num)\n",
        "\n",
        "    arg_list = []\n",
        "    for c_n in range(child_num):\n",
        "        arg_list.append([val[c_n] for val in params.values()])\n",
        "\n",
        "    manager = multiprocessing.Manager()\n",
        "    loss_lst = manager.list([np.inf for i in range(child_num)])\n",
        "\n",
        "    for r_n in range(generation_num):\n",
        "        with multiprocessing.Pool(os.cpu_count()) as pool:\n",
        "            pool.starmap(eval_func, eval_iter(arg_list, loss_lst))\n",
        "\n",
        "        fittest_idx = int(np.argmin(loss_lst))\n",
        "        base_args = arg_list[fittest_idx]\n",
        "        print(f\"Best {base_args}\\n\")\n",
        "\n",
        "        # mutate offspring from fittest individual\n",
        "        params = OrderedDict([(nm, []) for nm in space.keys()])\n",
        "        for s_i, (nm, v_range) in enumerate(space.items()):\n",
        "            std = (v_range[1] - v_range[0]) / 2\n",
        "            noise = np.random.normal(0, std, size=child_num)\n",
        "            new_param = base_args[s_i] + noise\n",
        "            params[nm] = np.clip(new_param, v_range[0], v_range[1])\n",
        "\n",
        "        arg_list = []\n",
        "        for c_n in range(child_num):\n",
        "            arg_list.append([val[c_n] for val in params.values()])\n",
        "\n",
        "        loss_lst = manager.list([np.inf for i in range(child_num)])"
      ],
      "execution_count": 152,
      "outputs": [
        {
          "output_type": "stream",
          "text": [
            "Eval 6.740822560101948, 14.561844480888137, 2.9381527373930045: 10000000000025.61\n",
            "Eval 8.270697268977337, 15.9777066422358, 2.894110269667816: 9999999999867.709\n",
            "Eval 6.721622690044503, 15.457254078700986, 2.9971263940865818: 9999999999999.988\n",
            "Best [8.270697268977337, 15.9777066422358, 2.894110269667816]\n",
            "\n"
          ],
          "name": "stdout"
        }
      ]
    }
  ]
}